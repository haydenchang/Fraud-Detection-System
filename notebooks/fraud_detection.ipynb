{
 "cells": [
  {
   "cell_type": "code",
   "execution_count": null,
   "id": "b237ba32",
   "metadata": {},
   "outputs": [
    {
     "ename": "FileNotFoundError",
     "evalue": "[Errno 2] No such file or directory: '/Users/hayden/Downloads/Projects/fraud_detection/data/creditcard.csv'",
     "output_type": "error",
     "traceback": [
      "\u001b[31m---------------------------------------------------------------------------\u001b[39m",
      "\u001b[31mFileNotFoundError\u001b[39m                         Traceback (most recent call last)",
      "\u001b[36mCell\u001b[39m\u001b[36m \u001b[39m\u001b[32mIn[2]\u001b[39m\u001b[32m, line 13\u001b[39m\n\u001b[32m     10\u001b[39m \u001b[38;5;28;01mfrom\u001b[39;00m\u001b[38;5;250m \u001b[39m\u001b[34;01mimblearn\u001b[39;00m\u001b[34;01m.\u001b[39;00m\u001b[34;01mover_sampling\u001b[39;00m\u001b[38;5;250m \u001b[39m\u001b[38;5;28;01mimport\u001b[39;00m SMOTE\n\u001b[32m     11\u001b[39m \u001b[38;5;28;01mfrom\u001b[39;00m\u001b[38;5;250m \u001b[39m\u001b[34;01msklearn\u001b[39;00m\u001b[34;01m.\u001b[39;00m\u001b[34;01mensemble\u001b[39;00m\u001b[38;5;250m \u001b[39m\u001b[38;5;28;01mimport\u001b[39;00m IsolationForest\n\u001b[32m---> \u001b[39m\u001b[32m13\u001b[39m pf = \u001b[43mpd\u001b[49m\u001b[43m.\u001b[49m\u001b[43mread_csv\u001b[49m\u001b[43m(\u001b[49m\u001b[33;43m\"\u001b[39;49m\u001b[33;43m/Users/hayden/Downloads/Projects/fraud_detection/data/creditcard.csv\u001b[39;49m\u001b[33;43m\"\u001b[39;49m\u001b[43m)\u001b[49m\n\u001b[32m     14\u001b[39m pf.head()\n",
      "\u001b[36mFile \u001b[39m\u001b[32mc:\\DS\\Fraud-Detection-System\\virtual_env\\Lib\\site-packages\\pandas\\io\\parsers\\readers.py:1026\u001b[39m, in \u001b[36mread_csv\u001b[39m\u001b[34m(filepath_or_buffer, sep, delimiter, header, names, index_col, usecols, dtype, engine, converters, true_values, false_values, skipinitialspace, skiprows, skipfooter, nrows, na_values, keep_default_na, na_filter, verbose, skip_blank_lines, parse_dates, infer_datetime_format, keep_date_col, date_parser, date_format, dayfirst, cache_dates, iterator, chunksize, compression, thousands, decimal, lineterminator, quotechar, quoting, doublequote, escapechar, comment, encoding, encoding_errors, dialect, on_bad_lines, delim_whitespace, low_memory, memory_map, float_precision, storage_options, dtype_backend)\u001b[39m\n\u001b[32m   1013\u001b[39m kwds_defaults = _refine_defaults_read(\n\u001b[32m   1014\u001b[39m     dialect,\n\u001b[32m   1015\u001b[39m     delimiter,\n\u001b[32m   (...)\u001b[39m\u001b[32m   1022\u001b[39m     dtype_backend=dtype_backend,\n\u001b[32m   1023\u001b[39m )\n\u001b[32m   1024\u001b[39m kwds.update(kwds_defaults)\n\u001b[32m-> \u001b[39m\u001b[32m1026\u001b[39m \u001b[38;5;28;01mreturn\u001b[39;00m \u001b[43m_read\u001b[49m\u001b[43m(\u001b[49m\u001b[43mfilepath_or_buffer\u001b[49m\u001b[43m,\u001b[49m\u001b[43m \u001b[49m\u001b[43mkwds\u001b[49m\u001b[43m)\u001b[49m\n",
      "\u001b[36mFile \u001b[39m\u001b[32mc:\\DS\\Fraud-Detection-System\\virtual_env\\Lib\\site-packages\\pandas\\io\\parsers\\readers.py:620\u001b[39m, in \u001b[36m_read\u001b[39m\u001b[34m(filepath_or_buffer, kwds)\u001b[39m\n\u001b[32m    617\u001b[39m _validate_names(kwds.get(\u001b[33m\"\u001b[39m\u001b[33mnames\u001b[39m\u001b[33m\"\u001b[39m, \u001b[38;5;28;01mNone\u001b[39;00m))\n\u001b[32m    619\u001b[39m \u001b[38;5;66;03m# Create the parser.\u001b[39;00m\n\u001b[32m--> \u001b[39m\u001b[32m620\u001b[39m parser = \u001b[43mTextFileReader\u001b[49m\u001b[43m(\u001b[49m\u001b[43mfilepath_or_buffer\u001b[49m\u001b[43m,\u001b[49m\u001b[43m \u001b[49m\u001b[43m*\u001b[49m\u001b[43m*\u001b[49m\u001b[43mkwds\u001b[49m\u001b[43m)\u001b[49m\n\u001b[32m    622\u001b[39m \u001b[38;5;28;01mif\u001b[39;00m chunksize \u001b[38;5;129;01mor\u001b[39;00m iterator:\n\u001b[32m    623\u001b[39m     \u001b[38;5;28;01mreturn\u001b[39;00m parser\n",
      "\u001b[36mFile \u001b[39m\u001b[32mc:\\DS\\Fraud-Detection-System\\virtual_env\\Lib\\site-packages\\pandas\\io\\parsers\\readers.py:1620\u001b[39m, in \u001b[36mTextFileReader.__init__\u001b[39m\u001b[34m(self, f, engine, **kwds)\u001b[39m\n\u001b[32m   1617\u001b[39m     \u001b[38;5;28mself\u001b[39m.options[\u001b[33m\"\u001b[39m\u001b[33mhas_index_names\u001b[39m\u001b[33m\"\u001b[39m] = kwds[\u001b[33m\"\u001b[39m\u001b[33mhas_index_names\u001b[39m\u001b[33m\"\u001b[39m]\n\u001b[32m   1619\u001b[39m \u001b[38;5;28mself\u001b[39m.handles: IOHandles | \u001b[38;5;28;01mNone\u001b[39;00m = \u001b[38;5;28;01mNone\u001b[39;00m\n\u001b[32m-> \u001b[39m\u001b[32m1620\u001b[39m \u001b[38;5;28mself\u001b[39m._engine = \u001b[38;5;28;43mself\u001b[39;49m\u001b[43m.\u001b[49m\u001b[43m_make_engine\u001b[49m\u001b[43m(\u001b[49m\u001b[43mf\u001b[49m\u001b[43m,\u001b[49m\u001b[43m \u001b[49m\u001b[38;5;28;43mself\u001b[39;49m\u001b[43m.\u001b[49m\u001b[43mengine\u001b[49m\u001b[43m)\u001b[49m\n",
      "\u001b[36mFile \u001b[39m\u001b[32mc:\\DS\\Fraud-Detection-System\\virtual_env\\Lib\\site-packages\\pandas\\io\\parsers\\readers.py:1880\u001b[39m, in \u001b[36mTextFileReader._make_engine\u001b[39m\u001b[34m(self, f, engine)\u001b[39m\n\u001b[32m   1878\u001b[39m     \u001b[38;5;28;01mif\u001b[39;00m \u001b[33m\"\u001b[39m\u001b[33mb\u001b[39m\u001b[33m\"\u001b[39m \u001b[38;5;129;01mnot\u001b[39;00m \u001b[38;5;129;01min\u001b[39;00m mode:\n\u001b[32m   1879\u001b[39m         mode += \u001b[33m\"\u001b[39m\u001b[33mb\u001b[39m\u001b[33m\"\u001b[39m\n\u001b[32m-> \u001b[39m\u001b[32m1880\u001b[39m \u001b[38;5;28mself\u001b[39m.handles = \u001b[43mget_handle\u001b[49m\u001b[43m(\u001b[49m\n\u001b[32m   1881\u001b[39m \u001b[43m    \u001b[49m\u001b[43mf\u001b[49m\u001b[43m,\u001b[49m\n\u001b[32m   1882\u001b[39m \u001b[43m    \u001b[49m\u001b[43mmode\u001b[49m\u001b[43m,\u001b[49m\n\u001b[32m   1883\u001b[39m \u001b[43m    \u001b[49m\u001b[43mencoding\u001b[49m\u001b[43m=\u001b[49m\u001b[38;5;28;43mself\u001b[39;49m\u001b[43m.\u001b[49m\u001b[43moptions\u001b[49m\u001b[43m.\u001b[49m\u001b[43mget\u001b[49m\u001b[43m(\u001b[49m\u001b[33;43m\"\u001b[39;49m\u001b[33;43mencoding\u001b[39;49m\u001b[33;43m\"\u001b[39;49m\u001b[43m,\u001b[49m\u001b[43m \u001b[49m\u001b[38;5;28;43;01mNone\u001b[39;49;00m\u001b[43m)\u001b[49m\u001b[43m,\u001b[49m\n\u001b[32m   1884\u001b[39m \u001b[43m    \u001b[49m\u001b[43mcompression\u001b[49m\u001b[43m=\u001b[49m\u001b[38;5;28;43mself\u001b[39;49m\u001b[43m.\u001b[49m\u001b[43moptions\u001b[49m\u001b[43m.\u001b[49m\u001b[43mget\u001b[49m\u001b[43m(\u001b[49m\u001b[33;43m\"\u001b[39;49m\u001b[33;43mcompression\u001b[39;49m\u001b[33;43m\"\u001b[39;49m\u001b[43m,\u001b[49m\u001b[43m \u001b[49m\u001b[38;5;28;43;01mNone\u001b[39;49;00m\u001b[43m)\u001b[49m\u001b[43m,\u001b[49m\n\u001b[32m   1885\u001b[39m \u001b[43m    \u001b[49m\u001b[43mmemory_map\u001b[49m\u001b[43m=\u001b[49m\u001b[38;5;28;43mself\u001b[39;49m\u001b[43m.\u001b[49m\u001b[43moptions\u001b[49m\u001b[43m.\u001b[49m\u001b[43mget\u001b[49m\u001b[43m(\u001b[49m\u001b[33;43m\"\u001b[39;49m\u001b[33;43mmemory_map\u001b[39;49m\u001b[33;43m\"\u001b[39;49m\u001b[43m,\u001b[49m\u001b[43m \u001b[49m\u001b[38;5;28;43;01mFalse\u001b[39;49;00m\u001b[43m)\u001b[49m\u001b[43m,\u001b[49m\n\u001b[32m   1886\u001b[39m \u001b[43m    \u001b[49m\u001b[43mis_text\u001b[49m\u001b[43m=\u001b[49m\u001b[43mis_text\u001b[49m\u001b[43m,\u001b[49m\n\u001b[32m   1887\u001b[39m \u001b[43m    \u001b[49m\u001b[43merrors\u001b[49m\u001b[43m=\u001b[49m\u001b[38;5;28;43mself\u001b[39;49m\u001b[43m.\u001b[49m\u001b[43moptions\u001b[49m\u001b[43m.\u001b[49m\u001b[43mget\u001b[49m\u001b[43m(\u001b[49m\u001b[33;43m\"\u001b[39;49m\u001b[33;43mencoding_errors\u001b[39;49m\u001b[33;43m\"\u001b[39;49m\u001b[43m,\u001b[49m\u001b[43m \u001b[49m\u001b[33;43m\"\u001b[39;49m\u001b[33;43mstrict\u001b[39;49m\u001b[33;43m\"\u001b[39;49m\u001b[43m)\u001b[49m\u001b[43m,\u001b[49m\n\u001b[32m   1888\u001b[39m \u001b[43m    \u001b[49m\u001b[43mstorage_options\u001b[49m\u001b[43m=\u001b[49m\u001b[38;5;28;43mself\u001b[39;49m\u001b[43m.\u001b[49m\u001b[43moptions\u001b[49m\u001b[43m.\u001b[49m\u001b[43mget\u001b[49m\u001b[43m(\u001b[49m\u001b[33;43m\"\u001b[39;49m\u001b[33;43mstorage_options\u001b[39;49m\u001b[33;43m\"\u001b[39;49m\u001b[43m,\u001b[49m\u001b[43m \u001b[49m\u001b[38;5;28;43;01mNone\u001b[39;49;00m\u001b[43m)\u001b[49m\u001b[43m,\u001b[49m\n\u001b[32m   1889\u001b[39m \u001b[43m\u001b[49m\u001b[43m)\u001b[49m\n\u001b[32m   1890\u001b[39m \u001b[38;5;28;01massert\u001b[39;00m \u001b[38;5;28mself\u001b[39m.handles \u001b[38;5;129;01mis\u001b[39;00m \u001b[38;5;129;01mnot\u001b[39;00m \u001b[38;5;28;01mNone\u001b[39;00m\n\u001b[32m   1891\u001b[39m f = \u001b[38;5;28mself\u001b[39m.handles.handle\n",
      "\u001b[36mFile \u001b[39m\u001b[32mc:\\DS\\Fraud-Detection-System\\virtual_env\\Lib\\site-packages\\pandas\\io\\common.py:873\u001b[39m, in \u001b[36mget_handle\u001b[39m\u001b[34m(path_or_buf, mode, encoding, compression, memory_map, is_text, errors, storage_options)\u001b[39m\n\u001b[32m    868\u001b[39m \u001b[38;5;28;01melif\u001b[39;00m \u001b[38;5;28misinstance\u001b[39m(handle, \u001b[38;5;28mstr\u001b[39m):\n\u001b[32m    869\u001b[39m     \u001b[38;5;66;03m# Check whether the filename is to be opened in binary mode.\u001b[39;00m\n\u001b[32m    870\u001b[39m     \u001b[38;5;66;03m# Binary mode does not support 'encoding' and 'newline'.\u001b[39;00m\n\u001b[32m    871\u001b[39m     \u001b[38;5;28;01mif\u001b[39;00m ioargs.encoding \u001b[38;5;129;01mand\u001b[39;00m \u001b[33m\"\u001b[39m\u001b[33mb\u001b[39m\u001b[33m\"\u001b[39m \u001b[38;5;129;01mnot\u001b[39;00m \u001b[38;5;129;01min\u001b[39;00m ioargs.mode:\n\u001b[32m    872\u001b[39m         \u001b[38;5;66;03m# Encoding\u001b[39;00m\n\u001b[32m--> \u001b[39m\u001b[32m873\u001b[39m         handle = \u001b[38;5;28;43mopen\u001b[39;49m\u001b[43m(\u001b[49m\n\u001b[32m    874\u001b[39m \u001b[43m            \u001b[49m\u001b[43mhandle\u001b[49m\u001b[43m,\u001b[49m\n\u001b[32m    875\u001b[39m \u001b[43m            \u001b[49m\u001b[43mioargs\u001b[49m\u001b[43m.\u001b[49m\u001b[43mmode\u001b[49m\u001b[43m,\u001b[49m\n\u001b[32m    876\u001b[39m \u001b[43m            \u001b[49m\u001b[43mencoding\u001b[49m\u001b[43m=\u001b[49m\u001b[43mioargs\u001b[49m\u001b[43m.\u001b[49m\u001b[43mencoding\u001b[49m\u001b[43m,\u001b[49m\n\u001b[32m    877\u001b[39m \u001b[43m            \u001b[49m\u001b[43merrors\u001b[49m\u001b[43m=\u001b[49m\u001b[43merrors\u001b[49m\u001b[43m,\u001b[49m\n\u001b[32m    878\u001b[39m \u001b[43m            \u001b[49m\u001b[43mnewline\u001b[49m\u001b[43m=\u001b[49m\u001b[33;43m\"\u001b[39;49m\u001b[33;43m\"\u001b[39;49m\u001b[43m,\u001b[49m\n\u001b[32m    879\u001b[39m \u001b[43m        \u001b[49m\u001b[43m)\u001b[49m\n\u001b[32m    880\u001b[39m     \u001b[38;5;28;01melse\u001b[39;00m:\n\u001b[32m    881\u001b[39m         \u001b[38;5;66;03m# Binary mode\u001b[39;00m\n\u001b[32m    882\u001b[39m         handle = \u001b[38;5;28mopen\u001b[39m(handle, ioargs.mode)\n",
      "\u001b[31mFileNotFoundError\u001b[39m: [Errno 2] No such file or directory: '/Users/hayden/Downloads/Projects/fraud_detection/data/creditcard.csv'"
     ]
    }
   ],
   "source": [
    "import pandas as pd\n",
    "import matplotlib.pyplot as plt\n",
    "import seaborn as sns\n",
    "import numpy as np\n",
    "from sklearn.model_selection import train_test_split\n",
    "from sklearn.linear_model import LogisticRegression\n",
    "from sklearn.metrics import classification_report, confusion_matrix, roc_auc_score, roc_curve, precision_recall_curve, average_precision_score, auc\n",
    "from sklearn.ensemble import RandomForestClassifier\n",
    "import matplotlib.pyplot as plt\n",
    "from imblearn.over_sampling import SMOTE\n",
    "from sklearn.ensemble import IsolationForest\n",
    "\n",
    "pf = pd.read_csv(\"/DS/Fraud-Detection-System/data/creditcard.csv\")\n",
    "pf.head()"
   ]
  },
  {
   "cell_type": "code",
   "execution_count": null,
   "id": "b49d9421",
   "metadata": {},
   "outputs": [],
   "source": [
    "pf.info()\n",
    "pf.describe()\n",
    "pf.isnull().sum()"
   ]
  },
  {
   "cell_type": "code",
   "execution_count": null,
   "id": "2f6e3708",
   "metadata": {},
   "outputs": [],
   "source": [
    "# Check data unbalance\n",
    "\n",
    "counts = pf['Class'].value_counts()\n",
    "\n",
    "plt.figure(figsize = (10,6))\n",
    "sns.barplot(x = counts.index, y = counts.values)\n",
    "plt.title('Data Unbalance (0 = Not fraud, 1 = Fraud)')\n",
    "plt.xticks([0,1], ['Non-Fraud (0)', 'Fraud (1)'])\n",
    "plt.ylabel('Transaction count')\n",
    "plt.show()"
   ]
  },
  {
   "cell_type": "code",
   "execution_count": null,
   "id": "6106d693",
   "metadata": {},
   "outputs": [],
   "source": [
    "# Feature and Target \n",
    "\n",
    "X = pf.drop('Class', axis = 1)\n",
    "y = pf['Class']\n",
    "print(X.shape)\n",
    "print(y.shape)"
   ]
  },
  {
   "cell_type": "code",
   "execution_count": null,
   "id": "e35bd7ff",
   "metadata": {},
   "outputs": [],
   "source": [
    "# Train-test split\n",
    "\n",
    "X_train, X_test, y_train, y_test = train_test_split(X, y, test_size = 0.2, random_state = 42, stratify = y)\n",
    "print(X_train.shape, y_train.shape)\n",
    "print(X_test.shape, y_test.shape)"
   ]
  },
  {
   "cell_type": "code",
   "execution_count": null,
   "id": "792789ed",
   "metadata": {},
   "outputs": [],
   "source": [
    "# Logistic Regression\n",
    "\n",
    "log_reg = LogisticRegression(class_weight='balanced', max_iter=1000, n_jobs=None)\n",
    "log_reg.fit(X_train, y_train)\n",
    "\n",
    "y_pred = log_reg.predict(X_test)\n",
    "y_proba = log_reg.predict_proba(X_test)[:, 1]\n",
    "\n",
    "prec_log, rec_log, _ = precision_recall_curve(y_test, y_proba)\n",
    "pr_auc_log = auc(rec_log, prec_log)\n",
    "\n",
    "print(\"Logistic Regression\")\n",
    "print(classification_report(y_test, y_pred, digits=4))\n",
    "print(\"ROC-AUC:\", roc_auc_score(y_test, y_proba))\n",
    "print('PR-AUC:', pr_auc_log)"
   ]
  },
  {
   "cell_type": "code",
   "execution_count": null,
   "id": "0238a40f",
   "metadata": {},
   "outputs": [],
   "source": [
    "# #PR Curve Logistic Regression\n",
    "\n",
    "# prec, rec, _ = precision_recall_curve(y_test, y_proba)\n",
    "# plt.figure(figsize=(5,4))\n",
    "# plt.plot(rec, prec, label=\"LogReg\")\n",
    "# plt.xlabel(\"Recall\")\n",
    "# plt.ylabel(\"Precision\")\n",
    "# plt.title(\"Precision–Recall Curve\")\n",
    "# plt.legend()\n",
    "# plt.show()"
   ]
  },
  {
   "cell_type": "code",
   "execution_count": null,
   "id": "414588f5",
   "metadata": {},
   "outputs": [],
   "source": [
    "# Confusion Matrix\n",
    "\n",
    "cm = confusion_matrix(y_test, y_pred)\n",
    "fig = plt.figure(figsize=(4,4))\n",
    "plt.imshow(cm, interpolation='nearest', cmap= \"Oranges\")\n",
    "plt.title('Confusion Matrix')\n",
    "plt.xlabel('Predicted')\n",
    "plt.ylabel('True')\n",
    "for (i,j), v in np.ndenumerate(cm):\n",
    "    plt.text(j, i, str(v), ha = 'center', va = 'center')\n",
    "plt.tight_layout()\n",
    "plt.show()"
   ]
  },
  {
   "cell_type": "code",
   "execution_count": null,
   "id": "9d987ab4",
   "metadata": {},
   "outputs": [],
   "source": [
    "# SMOTE\n",
    "\n",
    "sm = SMOTE(random_state = 42)\n",
    "X_train_sm, y_train_sm = sm.fit_resample(X_train, y_train)\n",
    "\n",
    "print('Before SMOTE:', X_train.shape, y_train.sum())\n",
    "print('After SMOTE:', X_train_sm.shape, y_train_sm.sum())"
   ]
  },
  {
   "cell_type": "code",
   "execution_count": null,
   "id": "6869533f",
   "metadata": {},
   "outputs": [],
   "source": [
    "# SMOTE + Logistic Regression\n",
    "\n",
    "logsm = LogisticRegression(max_iter=2000, solver='lbfgs')\n",
    "logsm.fit(X_train_sm, y_train_sm)\n",
    "\n",
    "y_pred_logsm = logsm.predict(X_test)\n",
    "y_proba_logsm = logsm.predict_proba(X_test)[:, 1]\n",
    "\n",
    "prec_logsm, rec_logsm, _ = precision_recall_curve(y_test, y_proba_logsm)\n",
    "pr_auc_logsm = auc(rec_logsm, prec_logsm)\n",
    "\n",
    "print('Logistic Regression with SMOTE Oversampling')\n",
    "print(classification_report(y_test, y_pred_logsm, digits= 4))\n",
    "print('ROC-AUC:', roc_auc_score(y_test, y_proba_logsm))\n",
    "print('PR-AUC:', pr_auc_logsm)"
   ]
  },
  {
   "cell_type": "code",
   "execution_count": null,
   "id": "244dd28e",
   "metadata": {},
   "outputs": [],
   "source": [
    "# SMOTE + Random Forest\n",
    "\n",
    "rfsm = RandomForestClassifier(class_weight= 'balanced', random_state=42, n_jobs=-1)\n",
    "rfsm.fit(X_train_sm, y_train_sm)\n",
    "\n",
    "y_pred_rfsm = rfsm.predict(X_test)\n",
    "y_proba_rfsm = rfsm.predict_proba(X_test)[:, 1]\n",
    "\n",
    "prec_rfsm, rec_rfsm, _ = precision_recall_curve(y_test, y_proba_rfsm)\n",
    "pr_auc_rfsm = auc(rec_rfsm, prec_rfsm)\n",
    "\n",
    "print('Random Forest with SMOTE Oversampling')\n",
    "print(classification_report(y_test, y_pred_rfsm, digits= 4))\n",
    "print('ROC-AUC:', roc_auc_score(y_test, y_proba_rfsm))\n",
    "print('PR-AUC:', pr_auc_rfsm)"
   ]
  },
  {
   "cell_type": "code",
   "execution_count": null,
   "id": "dd3faf67",
   "metadata": {},
   "outputs": [],
   "source": [
    "# Random Forest\n",
    "\n",
    "rf = RandomForestClassifier(class_weight= 'balanced', random_state=42, n_jobs=-1)\n",
    "\n",
    "rf.fit(X_train, y_train)\n",
    "\n",
    "y_pred_rf = rf.predict(X_test)\n",
    "y_prob_rf = rf.predict_proba(X_test)[:, 1]\n",
    "\n",
    "print(\"Random Forest\")\n",
    "print(confusion_matrix(y_test, y_pred_rf))\n",
    "print(classification_report(y_test, y_pred_rf, digits = 4))\n",
    "\n",
    "prec_rf, rec_rf, _ = precision_recall_curve(y_test, y_prob_rf)\n",
    "\n",
    "print(f'ROC-AUC:', roc_auc_score(y_test, y_prob_rf))\n",
    "print(f'PR-AUC:', auc(rec_rf, prec_rf))"
   ]
  },
  {
   "cell_type": "code",
   "execution_count": null,
   "id": "43f940a3",
   "metadata": {},
   "outputs": [],
   "source": [
    "# Isolation Forest\n",
    "\n",
    "iso = IsolationForest(contamination=0.0017, random_state=42, n_jobs=-1)\n",
    "\n",
    "iso.fit(X_train)\n",
    "\n",
    "y_pred_iso = iso.predict(X_test)\n",
    "y_pred_iso = [1 if x == -1 else 0 for x in y_pred_iso]\n",
    "\n",
    "prec_iso, rec_iso, _ = precision_recall_curve(y_test, y_pred_iso)\n",
    "\n",
    "print('Isolation Forest')\n",
    "print(confusion_matrix(y_test, y_pred_iso))\n",
    "print(classification_report(y_test, y_pred_iso, digits=4))\n",
    "\n",
    "print('ROC-AUC:', roc_auc_score(y_test,y_proba))\n",
    "print('PR-AUC:', auc(rec_iso, prec_iso))"
   ]
  },
  {
   "cell_type": "code",
   "execution_count": null,
   "id": "139619aa",
   "metadata": {},
   "outputs": [],
   "source": [
    "# Table Comparison\n",
    "\n",
    "comparisons = {\"Model\": [ 'Logistic Regression', 'Logistic Regression + SMOTE', 'Random Forest', 'Random Forest + SMOTE', 'Isolation Forest'],\n",
    "               'Precision': [5.10, 12.48 , 96.05, 82.65, 31.13],\n",
    "               'Recall' : [91.84, 89.90 , 74.49, 82.65, 33.67],\n",
    "               'F1-Score': [9.67, 21.92 ,83.91, 82.65, 32.35],\n",
    "               'ROC-AUC': [97.35, 97.53, 95.29, 96.44, 97.35],\n",
    "               'PR-AUC': [75.26, 78.58, 86.00, 87.53, 32.46]}\n",
    "\n",
    "df_comp = pd.DataFrame(comparisons)\n",
    "\n",
    "print(df_comp)\n",
    "\n",
    "#"
   ]
  },
  {
   "cell_type": "code",
   "execution_count": null,
   "id": "c41730f9",
   "metadata": {},
   "outputs": [],
   "source": [
    "# Bar Chart Comparison\n",
    "\n",
    "df_comp = pd.DataFrame(comparisons)\n",
    "\n",
    "for conv in ['Precision', 'Recall', 'F1-Score', 'ROC-AUC', 'PR-AUC']:\n",
    "    df_comp[conv] = pd.to_numeric(df_comp[conv])\n",
    "\n",
    "# Precision\n",
    "plt.figure(figsize= (10,6))\n",
    "plt.bar(df_comp['Model'], df_comp['Precision'], color = 'skyblue')\n",
    "plt.ylabel('Precision')\n",
    "plt.title(\"Precision Comparison\")\n",
    "plt.xticks(rotation = 20)\n",
    "plt.show()\n",
    "\n",
    "# Recall\n",
    "plt.figure(figsize= (10,6))\n",
    "plt.bar(df_comp['Model'], df_comp['Recall'], color = 'skyblue')\n",
    "plt.ylabel('Recall')\n",
    "plt.title(\"Recall Comparison\")\n",
    "plt.xticks(rotation = 20)\n",
    "plt.show()\n",
    "\n",
    "# F1 Score\n",
    "plt.figure(figsize= (10,6))\n",
    "plt.bar(df_comp['Model'], df_comp['F1-Score'], color = 'skyblue')\n",
    "plt.ylabel('F1-Score')\n",
    "plt.title(\"F1-Score Comparison\")\n",
    "plt.xticks(rotation = 20)\n",
    "plt.show()"
   ]
  },
  {
   "cell_type": "code",
   "execution_count": null,
   "id": "e76daf41",
   "metadata": {},
   "outputs": [],
   "source": [
    "# # Conclusion\n",
    "\n",
    "# - Firstly, the data is highly imbalance which makes PR-AUC and recall more significant evaluation metrics than other factors, even accuracy.\n",
    "# - Logistic regression achieved high recall rate but the downside is that it has low precision rate. If the user is looking for not missing a fraud, it might be a\n",
    "#   good model but we have to keep in mind that high flag rate means the customer(the user who is being protected by the system) might not consider the flag important after couple of false flags\n",
    "# - Logistic regression with smote did improve precision from logistic regression but still the precision rate is not good enough for users to rely on.\n",
    "# - Random forest achieved high precision rate with good recall rate. Random forest also returned high PR-Auc score. This indicates that random forest is a better model than logistic regression.\n",
    "# - Random forest with smote improved the recall rate from original random forest. Random forest with smote returned slightly higher ROC-AUC and PR-AUC score, meaning random forest with SMOTE is a better fit for prediction model over random forest without SMOTE\n",
    "# - Isolation forest significantly underperfomed compared to other models"
   ]
  }
 ],
 "metadata": {
  "kernelspec": {
   "display_name": "virtual_env",
   "language": "python",
   "name": "python3"
  },
  "language_info": {
   "codemirror_mode": {
    "name": "ipython",
    "version": 3
   },
   "file_extension": ".py",
   "mimetype": "text/x-python",
   "name": "python",
   "nbconvert_exporter": "python",
   "pygments_lexer": "ipython3",
   "version": "3.12.10"
  }
 },
 "nbformat": 4,
 "nbformat_minor": 5
}
